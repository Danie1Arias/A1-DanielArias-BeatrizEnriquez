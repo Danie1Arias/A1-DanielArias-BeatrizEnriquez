{
 "cells": [
  {
   "cell_type": "markdown",
   "metadata": {},
   "source": [
    "# Student Performance in Exams\n",
    "This dataset provides a detailed snapshot of high school students' performance in exams, focusing on their scores in mathematics, reading, and writing. It includes essential demographic, social, and academic variables that are known to influence academic outcomes. The dataset consists of 1,000 observations, where each row represents a unique student, and includes various attributes such as gender, race/ethnicity, parental education levels, test preparation status, lunch type, and scores in three key academic subjects. This dataset can be leveraged to analyze trends, correlations, and disparities in academic performance based on socioeconomic and educational factors.\n",
    "\n",
    "Source: [https://www.kaggle.com/datasets/timothyadeyemi/students-performance-in-exams](https://www.kaggle.com/datasets/timothyadeyemi/students-performance-in-exams)\n",
    "\n",
    "## Feature descriptions\n",
    "| Attribute | Description |\n",
    "|---|---|\n",
    "|Gender| \tThis column categorizes students by their gender (Male, Female). Allows for the exploration of gender-based performance trends in math, reading, and writing scores.|\n",
    "|Race/Ethnicity|Coded into five groups (Group A to Group E), this feature represents the racial or ethnic background of the student. Enables analysis of how ethnic backgrounds influence exam performance.|\n",
    "|Parental Level of Education|Describes the highest educational attainment of the student’s parents (e.g., High School, Some College, Associate’s Degree, Bachelor’s Degree, Master’s Degree). This variable is useful in understanding the impact of parental education on students' academic achievements.|\n",
    "|Lunch Type|Indicates whether the student receives a standard lunch or a free/reduced-price lunch. This feature can be used to study the relationship between socioeconomic status and academic performance.|\n",
    "|Test Preparation Course|Describes whether the student completed a test preparation course (Completed or None). Examines the influence of structured test preparation on academic outcomes.|\n",
    "|Math Score|This column records the student’s performance in mathematics (on a scale of 0-100). A key outcome variable for assessing performance in a core subject.|\n",
    "|Reading Score|Similar to the math score, this feature captures the student’s performance in reading (on a scale of 0-100). Provides insight into students' literacy and comprehension abilities.|\n",
    "|Writing Score|Represents the student’s performance in writing (on a scale of 0-100). Allows for analysis of written communication skills and overall language proficiency.|\n",
    "\n",
    "## 1. Prepare the dataset\n",
    "### 1.1 Read and treat missing values"
   ]
  },
  {
   "cell_type": "code",
   "execution_count": 1,
   "metadata": {},
   "outputs": [
    {
     "name": "stdout",
     "output_type": "stream",
     "text": [
      "\n",
      "Checking for placeholder values:\n",
      "Number of '?' entries in each column:\n",
      "gender                         0\n",
      "race/ethnicity                 0\n",
      "parental level of education    0\n",
      "lunch                          0\n",
      "test preparation course        0\n",
      "math score                     0\n",
      "reading score                  0\n",
      "writing score                  0\n",
      "dtype: int64\n",
      "Number of 'N/A' entries in each column:\n",
      "gender                         0\n",
      "race/ethnicity                 0\n",
      "parental level of education    0\n",
      "lunch                          0\n",
      "test preparation course        0\n",
      "math score                     0\n",
      "reading score                  0\n",
      "writing score                  0\n",
      "dtype: int64\n",
      "Number of 'NA' entries in each column:\n",
      "gender                         0\n",
      "race/ethnicity                 0\n",
      "parental level of education    0\n",
      "lunch                          0\n",
      "test preparation course        0\n",
      "math score                     0\n",
      "reading score                  0\n",
      "writing score                  0\n",
      "dtype: int64\n",
      "Number of 'None' entries in each column:\n",
      "gender                         0\n",
      "race/ethnicity                 0\n",
      "parental level of education    0\n",
      "lunch                          0\n",
      "test preparation course        0\n",
      "math score                     0\n",
      "reading score                  0\n",
      "writing score                  0\n",
      "dtype: int64\n",
      "Number of '' entries in each column:\n",
      "gender                         0\n",
      "race/ethnicity                 0\n",
      "parental level of education    0\n",
      "lunch                          0\n",
      "test preparation course        0\n",
      "math score                     0\n",
      "reading score                  0\n",
      "writing score                  0\n",
      "dtype: int64\n"
     ]
    }
   ],
   "source": [
    "import pandas as pd\n",
    "import matplotlib.pyplot as plt\n",
    "\n",
    "df = pd.read_csv('StudentsPerformance.csv')\n",
    "\n",
    "# Check if the dataset contains any placeholder values\n",
    "print(\"\\nChecking for placeholder values:\")\n",
    "placeholders = ['?', 'N/A', 'NA', 'None', '']\n",
    "\n",
    "for placeholder in placeholders:\n",
    "    print(f\"Number of '{placeholder}' entries in each column:\")\n",
    "    print((df == placeholder).sum())"
   ]
  },
  {
   "cell_type": "markdown",
   "metadata": {},
   "source": [
    "It is good practice to look at whether the dataset to be analyzed has missing data. If it does, it can be filled with random values ​​similar to the other features, or the row can be deleted completely. In this case, there is no data loss.\n",
    "\n",
    "### 1.2 Encode features"
   ]
  },
  {
   "cell_type": "code",
   "execution_count": 2,
   "metadata": {},
   "outputs": [
    {
     "data": {
      "image/png": "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
      "text/plain": [
       "<Figure size 1000x1000 with 9 Axes>"
      ]
     },
     "metadata": {},
     "output_type": "display_data"
    }
   ],
   "source": [
    "pd.plotting.scatter_matrix(df, figsize=(10,10));\n",
    "plt.tight_layout(pad=1.0) "
   ]
  },
  {
   "cell_type": "markdown",
   "metadata": {},
   "source": [
    "As can be seen in the previous plot, only the numerical features (Math Score, Reading Score and Writing Score) have been taken into account to perform the scatter matrix. However, non numerical features (Gender, Race/Ehnicity, Parental Level of Education, Lunch Type and Test Preparation Course) have not. Therefore, it's necessary to convert this categorical features into numerical in order to perform the analysis correctly.\n",
    "\n",
    "In the following code, one hot encoding.\n",
    "\n",
    "|One Hot Encoding is a method for converting categorical variables into a binary format. It creates new binary columns (0s and 1s) for each category in the original variable. Each category in the original column is represented as a separate column, where a value of 1 indicates the presence of that category, and 0 indicates its absence.|\n",
    "|---|"
   ]
  },
  {
   "cell_type": "code",
   "execution_count": 3,
   "metadata": {},
   "outputs": [],
   "source": [
    "from sklearn.preprocessing import LabelEncoder\n",
    "\n",
    "# Create a copy of the dataset to avoid modifying the original dataframe\n",
    "df_encoded = df.copy()\n",
    "\n",
    "# Use pd.get_dummies() to one-hot encode the categorical columns\n",
    "# drop_first = True automatically removes one of the two columns and avoids redundancy, since the categories are mutually exclusive.\n",
    "df_encoded = pd.get_dummies(df, columns=['gender','lunch', 'test preparation course'], drop_first=True)\n",
    "\n",
    "# The following features have more than two possible values, therefore, they are not mutually exclusive.\n",
    "df_encoded = pd.get_dummies(df_encoded, columns=['race/ethnicity','parental level of education'])\n",
    "df_encoded = df_encoded.astype(int)"
   ]
  },
  {
   "cell_type": "markdown",
   "metadata": {},
   "source": [
    "### 1.3 Look for outliers\n",
    "The goal of the analysis will be to make the Math score prediction. In principle, all the features could be related to it and there is no indication of irrelevant data that should be eliminated from the set. What's more, as seen in the previous plot, continuous variables don't show unexpected values.\n",
    "\n",
    "### 1.4 Normalize  and shuffle data\n",
    "It's necessary normalize data since some features vary between 0 and 100, whereas others between 0 and 100. Back-propagation and many gradient-based algorithms are sensitive to feature scaling because features with larger ranges dominate the gradient updates, potentially leading to slower convergence or suboptimal models."
   ]
  },
  {
   "cell_type": "code",
   "execution_count": 4,
   "metadata": {},
   "outputs": [],
   "source": [
    "# Create a min max scaler and scale all the features of the dataset. In this case between 0 and 1\n",
    "from sklearn.preprocessing import MinMaxScaler\n",
    "\n",
    "scaler = MinMaxScaler()\n",
    "df_encoded_scaled = pd.DataFrame(scaler.fit_transform(df_encoded), columns=df_encoded.columns)\n",
    "\n",
    "# Shuffle data\n",
    "# df_encoded_scaled_shuffled = df_encoded_scaled.sample(frac=1, random_state=42).reset_index(drop=True)"
   ]
  },
  {
   "cell_type": "markdown",
   "metadata": {},
   "source": [
    "# 2. Fit and traing the model"
   ]
  },
  {
   "cell_type": "code",
   "execution_count": 7,
   "metadata": {},
   "outputs": [],
   "source": [
    "from sklearn.model_selection import KFold\n",
    "import NeuralNet as NN\n",
    "\n",
    "# Separate the input and the output features, output is Math Score.\n",
    "X, y = df_encoded_scaled.drop(\"math score\", axis=1), df_encoded_scaled[\"math score\"]\n",
    "\n",
    "# Convert DataFrame to numpy arrays for KFold indexing\n",
    "X = X.to_numpy()\n",
    "y = y.to_numpy()\n",
    "\n",
    "# Neural Network parameters\n",
    "layers = [len(df_encoded_scaled.columns) - 1, 9, 5, 1]  \n",
    "epochs = 100\n",
    "learning_rate = 0.1\n",
    "fact = 'linear'\n",
    "momentum = 0.9\n",
    "nn = NN.NeuralNet(layers, epochs, learning_rate, momentum, fact)\n",
    "\n",
    "nn.fit(X, y)\n",
    "y_pred = nn.predict(X)\n",
    "loss_epochs = nn.loss_epochs()"
   ]
  }
 ],
 "metadata": {
  "kernelspec": {
   "display_name": "mas",
   "language": "python",
   "name": "python3"
  },
  "language_info": {
   "codemirror_mode": {
    "name": "ipython",
    "version": 3
   },
   "file_extension": ".py",
   "mimetype": "text/x-python",
   "name": "python",
   "nbconvert_exporter": "python",
   "pygments_lexer": "ipython3",
   "version": "3.12.7"
  }
 },
 "nbformat": 4,
 "nbformat_minor": 2
}

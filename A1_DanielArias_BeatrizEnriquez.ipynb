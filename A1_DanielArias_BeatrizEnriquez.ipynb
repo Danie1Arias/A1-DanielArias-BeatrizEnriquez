{
 "cells": [
  {
   "cell_type": "markdown",
   "metadata": {},
   "source": [
    "# Student Performance in Exams\n",
    "This dataset provides a detailed snapshot of high school students' performance in exams, focusing on their scores in mathematics, reading, and writing. It includes essential demographic, social, and academic variables that are known to influence academic outcomes. The dataset consists of 1,000 observations, where each row represents a unique student, and includes various attributes such as gender, race/ethnicity, parental education levels, test preparation status, lunch type, and scores in three key academic subjects. This dataset can be leveraged to analyze trends, correlations, and disparities in academic performance based on socioeconomic and educational factors.\n",
    "\n",
    "Source: [https://www.kaggle.com/datasets/timothyadeyemi/students-performance-in-exams](https://www.kaggle.com/datasets/timothyadeyemi/students-performance-in-exams)\n",
    "\n",
    "## Feature descriptions\n",
    "| Attribute | Description |\n",
    "|---|---|\n",
    "|Gender| \tThis column categorizes students by their gender (Male, Female). Allows for the exploration of gender-based performance trends in math, reading, and writing scores.|\n",
    "|Race/Ethnicity|Coded into five groups (Group A to Group E), this feature represents the racial or ethnic background of the student. Enables analysis of how ethnic backgrounds influence exam performance.|\n",
    "|Parental Level of Education|Describes the highest educational attainment of the student’s parents (e.g., High School, Some College, Associate’s Degree, Bachelor’s Degree, Master’s Degree). This variable is useful in understanding the impact of parental education on students' academic achievements.|\n",
    "|Lunch Type|Indicates whether the student receives a standard lunch or a free/reduced-price lunch. This feature can be used to study the relationship between socioeconomic status and academic performance.|\n",
    "|Test Preparation Course|Describes whether the student completed a test preparation course (Completed or None). Examines the influence of structured test preparation on academic outcomes.|\n",
    "|Math Score|This column records the student’s performance in mathematics (on a scale of 0-100). A key outcome variable for assessing performance in a core subject.|\n",
    "|Reading Score|Similar to the math score, this feature captures the student’s performance in reading (on a scale of 0-100). Provides insight into students' literacy and comprehension abilities.|\n",
    "|Writing Score|Represents the student’s performance in writing (on a scale of 0-100). Allows for analysis of written communication skills and overall language proficiency.|\n",
    "\n",
    "## 1. Prepare the dataset\n",
    "### 1.1 Read and treat missing values"
   ]
  },
  {
   "cell_type": "code",
   "execution_count": null,
   "metadata": {},
   "outputs": [],
   "source": [
    "import pandas as pd\n",
    "import matplotlib.pyplot as plt\n",
    "\n",
    "df = pd.read_csv('StudentsPerformance.csv')\n",
    "\n",
    "# Check if the dataset contains any placeholder values\n",
    "print(\"\\nChecking for placeholder values:\")\n",
    "placeholders = ['?', 'N/A', 'NA', 'None', '']\n",
    "\n",
    "for placeholder in placeholders:\n",
    "    print(f\"Number of '{placeholder}' entries in each column:\")\n",
    "    print((df == placeholder).sum())"
   ]
  },
  {
   "cell_type": "markdown",
   "metadata": {},
   "source": [
    "It is good practice to look at whether the dataset to be analyzed has missing data. If it does, it can be filled with random values ​​similar to the other features, or the row can be deleted completely. In this case, there is no data loss.\n",
    "\n",
    "### 1.2 Encode features"
   ]
  },
  {
   "cell_type": "code",
   "execution_count": null,
   "metadata": {},
   "outputs": [],
   "source": [
    "pd.plotting.scatter_matrix(df, figsize=(10,10));\n",
    "plt.tight_layout(pad=1.0) "
   ]
  },
  {
   "cell_type": "markdown",
   "metadata": {},
   "source": [
    "As can be seen in the previous plot, only the numerical features (Math Score, Reading Score and Writing Score) have been taken into account to perform the scatter matrix. However, non numerical features (Gender, Race/Ehnicity, Parental Level of Education, Lunch Type and Test Preparation Course) have not. Therefore, it's necessary to convert this categorical features into numerical in order to perform the analysis correctly.\n",
    "\n",
    "In the following code, one hot encoding.\n",
    "\n",
    "|One Hot Encoding is a method for converting categorical variables into a binary format. It creates new binary columns (0s and 1s) for each category in the original variable. Each category in the original column is represented as a separate column, where a value of 1 indicates the presence of that category, and 0 indicates its absence.|\n",
    "|---|"
   ]
  },
  {
   "cell_type": "code",
   "execution_count": null,
   "metadata": {},
   "outputs": [],
   "source": [
    "from sklearn.preprocessing import LabelEncoder\n",
    "\n",
    "# Create a copy of the dataset to avoid modifying the original dataframe\n",
    "df_encoded = df.copy()\n",
    "\n",
    "# Use pd.get_dummies() to one-hot encode the categorical columns\n",
    "# drop_first = True automatically removes one of the two columns and avoids redundancy, since the categories are mutually exclusive.\n",
    "df_encoded = pd.get_dummies(df, columns=['gender','lunch', 'test preparation course'], drop_first=True)\n",
    "\n",
    "# The following features have more than two possible values, therefore, they are not mutually exclusive.\n",
    "df_encoded = pd.get_dummies(df_encoded, columns=['race/ethnicity','parental level of education'])\n",
    "df_encoded = df_encoded.astype(int)"
   ]
  },
  {
   "cell_type": "markdown",
   "metadata": {},
   "source": [
    "### 1.3 Look for outliers\n",
    "The goal of the analysis will be to make the Math score prediction. In principle, all the features could be related to it and there is no indication of irrelevant data that should be eliminated from the set. What's more, as seen in the previous plot, continuous variables don't show unexpected values.\n",
    "\n",
    "### 1.4 Normalize  and shuffle data\n",
    "It's necessary normalize data since some features vary between 0 and 100, whereas others between 0 and 100. Back-propagation and many gradient-based algorithms are sensitive to feature scaling because features with larger ranges dominate the gradient updates, potentially leading to slower convergence or suboptimal models."
   ]
  },
  {
   "cell_type": "code",
   "execution_count": null,
   "metadata": {},
   "outputs": [],
   "source": [
    "# Create a min max scaler and scale all the features of the dataset. In this case between 0 and 1\n",
    "from sklearn.preprocessing import MinMaxScaler\n",
    "\n",
    "scaler = MinMaxScaler()\n",
    "df_encoded_scaled = pd.DataFrame(scaler.fit_transform(df_encoded), columns=df_encoded.columns)\n",
    "\n",
    "# Shuffle data\n",
    "# df_encoded_scaled_shuffled = df_encoded_scaled.sample(frac=1, random_state=42).reset_index(drop=True)"
   ]
  },
  {
   "cell_type": "markdown",
   "metadata": {},
   "source": [
    "# 2. Fit and traing the model"
   ]
  },
  {
   "cell_type": "code",
   "execution_count": null,
   "metadata": {},
   "outputs": [],
   "source": [
    "import NeuralNet as NN\n",
    "\n",
    "# Separate the input and the output features, output is Math Score.\n",
    "X, y = df_encoded_scaled.drop(\"math score\", axis=1), df_encoded_scaled[\"math score\"]\n",
    "\n",
    "# Convert DataFrame to numpy arrays for KFold indexing\n",
    "X = X.to_numpy()\n",
    "y = y.to_numpy()\n",
    "\n",
    "# Neural Network parameters\n",
    "layers = [len(df_encoded_scaled.columns) - 1, 9, 5, 1]  \n",
    "epochs = 100\n",
    "learning_rate = 0.1\n",
    "fact = 'linear'\n",
    "momentum = 0.9\n",
    "nn = NN.NeuralNet(layers, epochs, learning_rate, momentum, fact)\n",
    "\n",
    "nn.fit(X, y)\n",
    "y_pred = nn.predict(X)\n",
    "loss_epochs = nn.loss_epochs()"
   ]
  }
 ],
 "metadata": {
  "kernelspec": {
   "display_name": "mas",
   "language": "python",
   "name": "python3"
  },
  "language_info": {
   "codemirror_mode": {
    "name": "ipython",
    "version": 3
   },
   "file_extension": ".py",
   "mimetype": "text/x-python",
   "name": "python",
   "nbconvert_exporter": "python",
   "pygments_lexer": "ipython3",
   "version": "3.12.7"
  }
 },
 "nbformat": 4,
 "nbformat_minor": 2
}
